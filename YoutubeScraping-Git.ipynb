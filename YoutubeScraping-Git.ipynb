{
 "cells": [
  {
   "cell_type": "markdown",
   "metadata": {},
   "source": [
    "## WEB SCRAPING USING SELENIUM AND PYTHON\n",
    "\n",
    "The goal of this project is to scrape data such as link(url), title, views, uploaded date, likes, dislikes from videos on youtube and to store the scraped data in a separate csv file."
   ]
  },
  {
   "cell_type": "code",
   "execution_count": 1,
   "metadata": {},
   "outputs": [],
   "source": [
    "#Installing Selenium\n",
    "\n",
    "pip install selenium\n",
    "\n",
    "#Importing necessary packages\n",
    "\n",
    "from selenium import webdriver\n",
    "import csv\n",
    "import pandas as pd\n",
    "import time"
   ]
  },
  {
   "cell_type": "code",
   "execution_count": 2,
   "metadata": {},
   "outputs": [],
   "source": [
    "#Reading the csv file containing youtube video links\n",
    "links = pd.read_csv(\"links.csv\",header=None)\n",
    "\n",
    "#DRIVER_PATH is the path in my computer where I have installed chromedriver\n",
    "DRIVER_PATH = \"D:\\DataQuest\\chromedriver.exe\"\n",
    "driver = webdriver.Chrome(executable_path=DRIVER_PATH)"
   ]
  },
  {
   "cell_type": "code",
   "execution_count": 3,
   "metadata": {},
   "outputs": [
    {
     "data": {
      "text/plain": [
       "68"
      ]
     },
     "execution_count": 3,
     "metadata": {},
     "output_type": "execute_result"
    }
   ],
   "source": [
    "#Creating a csv file to store the data\n",
    "csv_file = open(\"final_data.csv\",'w')\n",
    "csv_writer = csv.writer(csv_file)\n",
    "csv_writer.writerow([\"video_link\",\"title\",\"video_views\",\"uploaded_date\",\"comments\",\"likes\",\"dislikes\"])"
   ]
  },
  {
   "cell_type": "code",
   "execution_count": 4,
   "metadata": {
    "scrolled": true
   },
   "outputs": [],
   "source": [
    "#Scraping\n",
    "\n",
    "#Looping through the links\n",
    "for n in range(10):\n",
    "    link = links[0][n]\n",
    "    driver.get(link)\n",
    "\n",
    "    #Suspending the execution for 3 seconds to give time for the page to load in chromedriver\n",
    "    time.sleep(3) \n",
    "\n",
    "    #url\n",
    "    url = driver.current_url\n",
    "    \n",
    "    #title\n",
    "    title = driver.find_element_by_xpath(\"//h1[@class='title style-scope ytd-video-primary-info-renderer']\").text\n",
    "\n",
    "    #views\n",
    "    views = driver.find_element_by_xpath(\"//span[@class='view-count style-scope yt-view-count-renderer']\").text.split(\" \")[0]\n",
    "    \n",
    "    #uploaded_date\n",
    "    uploaded_date = driver.find_elements_by_xpath(\"//yt-formatted-string[@class='style-scope ytd-video-primary-info-renderer']\")[1].text\n",
    "\n",
    "    #likes and dislikes\n",
    "    content = driver.find_elements_by_xpath(\"//yt-formatted-string[@class='style-scope ytd-toggle-button-renderer style-text']\")\n",
    "    likes = content[0].text\n",
    "    dislikes = content[1].text\n",
    "\n",
    "    #number_of_comments\n",
    "    #This code is used to scroll the webpage so that the comments section become visible\n",
    "    driver.execute_script(\"window.scrollTo(0, 500)\") \n",
    "\n",
    "    #Suspending the execution for 3 seconds until the page loads in chromedriver\n",
    "    time.sleep(3)\n",
    "    num_comments = driver.find_element_by_xpath(\"//yt-formatted-string[@class='count-text style-scope ytd-comments-header-renderer']\").text.split(\" \")[0]\n",
    "    #Writing data into the file      \n",
    "    csv_writer.writerow([url,title,views,uploaded_date,num_comments,likes,dislikes])\n",
    "\n",
    "#Closing the file\n",
    "csv_file.close()"
   ]
  },
  {
   "cell_type": "code",
   "execution_count": 5,
   "metadata": {},
   "outputs": [],
   "source": [
    "#Exiting chromedriver\n",
    "driver.quit()"
   ]
  }
 ],
 "metadata": {
  "kernelspec": {
   "display_name": "Python 3",
   "language": "python",
   "name": "python3"
  },
  "language_info": {
   "codemirror_mode": {
    "name": "ipython",
    "version": 3
   },
   "file_extension": ".py",
   "mimetype": "text/x-python",
   "name": "python",
   "nbconvert_exporter": "python",
   "pygments_lexer": "ipython3",
   "version": "3.7.4"
  }
 },
 "nbformat": 4,
 "nbformat_minor": 2
}
